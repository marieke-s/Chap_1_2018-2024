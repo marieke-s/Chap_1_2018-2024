{
 "cells": [
  {
   "cell_type": "markdown",
   "metadata": {},
   "source": [
    "# Setting up"
   ]
  },
  {
   "cell_type": "code",
   "execution_count": 1,
   "metadata": {},
   "outputs": [],
   "source": [
    "import geopandas as gpd\n",
    "import os\n",
    "import pandas as pd\n",
    "from geopy.distance import geodesic\n",
    "from shapely.geometry import Point\n",
    "import pandas as pd\n",
    "import geopandas as gpd\n",
    "from shapely.geometry import Point\n",
    "\n",
    "os.chdir(\"/media/marieke/Shared/Chap-1/Model/Scripts/Chap_1_2018-2024\")"
   ]
  },
  {
   "cell_type": "markdown",
   "metadata": {},
   "source": [
    "# Load data"
   ]
  },
  {
   "cell_type": "code",
   "execution_count": 2,
   "metadata": {},
   "outputs": [],
   "source": [
    "# IMPORTS FICHIERS\n",
    "\n",
    "# Buffers by replicate group\n",
    "buff = gpd.read_file(\"./data/processed_data/eDNA/mtdt_5.gpkg\")\n",
    "\n",
    "# Shore from GeoJSON\n",
    "shore_gdf = gpd.read_file(\"./data/raw_data/predictors/Dist_shore/med_regions.geojson\")  # GeoJSON of the coast"
   ]
  },
  {
   "cell_type": "markdown",
   "metadata": {},
   "source": [
    "# Compute buffer centroids"
   ]
  },
  {
   "cell_type": "code",
   "execution_count": 3,
   "metadata": {},
   "outputs": [],
   "source": [
    "# Convert Polygon to EPSG:2154\n",
    "buff = buff.to_crs(epsg=2154)\n",
    "\n",
    "# Save original buffer geometry for later restoration\n",
    "original_buffers = buff.geometry.copy()\n",
    "\n",
    "# Compute centroids and retain associated data\n",
    "points_gdf = buff.copy()\n",
    "points_gdf['geometry'] = buff.geometry.centroid  # Replace geometry with centroids\n",
    "\n"
   ]
  },
  {
   "cell_type": "markdown",
   "metadata": {},
   "source": [
    "# Compute distance to shore"
   ]
  },
  {
   "cell_type": "code",
   "execution_count": 7,
   "metadata": {},
   "outputs": [
    {
     "name": "stdout",
     "output_type": "stream",
     "text": [
      "0       43.899096\n",
      "1        1.000000\n",
      "2        4.632290\n",
      "3      109.018054\n",
      "4        1.000000\n",
      "          ...    \n",
      "787     20.480453\n",
      "788      1.000000\n",
      "789    300.710796\n",
      "790    101.061584\n",
      "791      1.000000\n",
      "Name: dist_shore_m, Length: 792, dtype: float64\n"
     ]
    }
   ],
   "source": [
    "# REPROJECTION EN 2154\n",
    "points_gdf = points_gdf.to_crs(epsg=2154)\n",
    "shore_gdf = shore_gdf.to_crs(epsg=2154)\n",
    "\n",
    "\n",
    "\n",
    "\n",
    "\n",
    "\n",
    "# FUSION POLYGONES REGIONS\n",
    "shore = shore_gdf.unary_union\n",
    "\n",
    "# Validate geometries\n",
    "points_gdf = points_gdf[points_gdf.geometry.is_valid & ~points_gdf.geometry.is_empty]\n",
    "if shore.is_empty:\n",
    "    raise ValueError(\"The shoreline geometry is empty after merging. Check the input GeoJSON file.\")\n",
    "\n",
    "\n",
    "\n",
    "\n",
    "\n",
    "\n",
    "\n",
    "# CALCUL DISTANCE EN METRES AVEC DISTANCE DE SHAPELY\n",
    "# Handle potential null distances robustly\n",
    "def calculate_distance(point, shore):\n",
    "    if point.is_empty or not point.is_valid:\n",
    "        return float('nan')  # Return NaN for invalid geometries\n",
    "    return point.distance(shore)\n",
    "\n",
    "points_gdf[\"dist_shore_m\"] = points_gdf.geometry.apply(lambda point: calculate_distance(point, shore))\n",
    "\n",
    "\n",
    "\n",
    "\n",
    "\n",
    "# Replace distance = 0 by 1\n",
    "points_gdf[\"dist_shore_m\"] = points_gdf[\"dist_shore_m\"].replace(0, 1)\n",
    "\n",
    "\n",
    "\n",
    "####################### Important methodological considerations #################################################\n",
    "# Important methodological considerations : \n",
    "# Distance to shore is computed from replicates group's buffer centroids.\n",
    "# When a centroid is on land (which happened for ~ 67/792 centroids) we set the distance to shore to 1 meter \n",
    "# because it was actually not sampled on land (obviously) and it ended up there \n",
    "# only because we simplified transects into straight lines between transect start and end points.\n",
    "##################################################################################################################\n",
    "\n",
    "\n",
    "\n",
    "\n",
    "\n",
    "# AFFICHAGE RESULTATS\n",
    "print(points_gdf[\"dist_shore_m\"])\n",
    "\n",
    "\n",
    "\n",
    "\n",
    "\n",
    "\n",
    "# ENREGISTREMENT\n",
    "\n",
    "# Restore original buffer geometries before saving\n",
    "points_gdf['geometry'] = original_buffers\n",
    "\n",
    "# Save to GeoPackage\n",
    "points_gdf.to_file(\"./data/processed_data/predictors/mtdt_5_dist-shore.gpkg\", driver=\"GPKG\")\n",
    "\n"
   ]
  },
  {
   "cell_type": "code",
   "execution_count": 8,
   "metadata": {},
   "outputs": [
    {
     "name": "stdout",
     "output_type": "stream",
     "text": [
      "dist_shore_m\n",
      "1.000000       66\n",
      "59.256330      11\n",
      "297.272206     10\n",
      "57.604770       8\n",
      "1026.162217     6\n",
      "               ..\n",
      "885.984862      1\n",
      "685.946551      1\n",
      "850.939588      1\n",
      "395.758102      1\n",
      "101.061584      1\n",
      "Name: count, Length: 646, dtype: int64\n"
     ]
    }
   ],
   "source": [
    "# Check number of 0s and number of 1s to see if properly replaced\n",
    "\n",
    "counts = points_gdf[\"dist_shore_m\"].value_counts()\n",
    "print(counts)\n"
   ]
  }
 ],
 "metadata": {
  "kernelspec": {
   "display_name": "Python 3 (ipykernel)",
   "language": "python",
   "name": "python3"
  },
  "language_info": {
   "codemirror_mode": {
    "name": "ipython",
    "version": 3
   },
   "file_extension": ".py",
   "mimetype": "text/x-python",
   "name": "python",
   "nbconvert_exporter": "python",
   "pygments_lexer": "ipython3",
   "version": "3.11.8"
  }
 },
 "nbformat": 4,
 "nbformat_minor": 4
}
